{
 "cells": [
  {
   "cell_type": "code",
   "execution_count": 5,
   "id": "0c5cab94",
   "metadata": {},
   "outputs": [],
   "source": [
    "# Devoir"
   ]
  },
  {
   "cell_type": "code",
   "execution_count": 50,
   "id": "0f03ac36",
   "metadata": {},
   "outputs": [],
   "source": [
    "import pandas as pd\n",
    "\n",
    "kundenDf = pd.read_csv('data/kunden.csv', sep = ';')\n",
    "besucherDf = pd.read_csv('data/besucher.csv', sep = ';')"
   ]
  },
  {
   "cell_type": "code",
   "execution_count": 7,
   "id": "9e597a73",
   "metadata": {},
   "outputs": [
    {
     "name": "stdout",
     "output_type": "stream",
     "text": [
      "Alter         1104\n",
      "Einkommen     1104\n",
      "Preis         1104\n",
      "Geschlecht    1099\n",
      "Zeit          1104\n",
      "KundeNr       1104\n",
      "dtype: int64\n"
     ]
    }
   ],
   "source": [
    "# 1. Wie viele Autos wurden verkauft?\n",
    "print(kundenDf.count()) #1104"
   ]
  },
  {
   "cell_type": "code",
   "execution_count": 8,
   "id": "9b9b92f2",
   "metadata": {},
   "outputs": [
    {
     "name": "stdout",
     "output_type": "stream",
     "text": [
      "max = 165482.31€, min = 21471.65€, mean = 88975.19871376813€\n"
     ]
    }
   ],
   "source": [
    "# 2. Was ist der Höchst-, Mindest- und Durchschnittspreis der verkauften Autos?\n",
    "preis = kundenDf['Preis']\n",
    "\n",
    "max = preis.max()\n",
    "min = preis.min()\n",
    "mean = preis.mean()\n",
    "\n",
    "print(f'max = {max}€, min = {min}€, mean = {mean}€') # max = 165482.31, min = 21471.65, mean = 88975.19871376813"
   ]
  },
  {
   "cell_type": "code",
   "execution_count": 9,
   "id": "cd69d81a",
   "metadata": {},
   "outputs": [
    {
     "name": "stdout",
     "output_type": "stream",
     "text": [
      "sum = 98228619.38€\n"
     ]
    }
   ],
   "source": [
    "# 3. Wie hoch war der Gesamtumsatz?\n",
    "sum = round(preis.sum(), 2)\n",
    "\n",
    "print(f'sum = {sum}€') # 98228619.38"
   ]
  },
  {
   "cell_type": "code",
   "execution_count": 72,
   "id": "acda86eb",
   "metadata": {},
   "outputs": [
    {
     "data": {
      "text/html": [
       "<div>\n",
       "<style scoped>\n",
       "    .dataframe tbody tr th:only-of-type {\n",
       "        vertical-align: middle;\n",
       "    }\n",
       "\n",
       "    .dataframe tbody tr th {\n",
       "        vertical-align: top;\n",
       "    }\n",
       "\n",
       "    .dataframe thead th {\n",
       "        text-align: right;\n",
       "    }\n",
       "</style>\n",
       "<table border=\"1\" class=\"dataframe\">\n",
       "  <thead>\n",
       "    <tr style=\"text-align: right;\">\n",
       "      <th></th>\n",
       "      <th>KundeNr</th>\n",
       "    </tr>\n",
       "    <tr>\n",
       "      <th>Niederlassung</th>\n",
       "      <th></th>\n",
       "    </tr>\n",
       "  </thead>\n",
       "  <tbody>\n",
       "    <tr>\n",
       "      <th>Baden-Württemberg</th>\n",
       "      <td>382</td>\n",
       "    </tr>\n",
       "    <tr>\n",
       "      <th>Bayern</th>\n",
       "      <td>338</td>\n",
       "    </tr>\n",
       "    <tr>\n",
       "      <th>Berlin</th>\n",
       "      <td>236</td>\n",
       "    </tr>\n",
       "    <tr>\n",
       "      <th>Brandenburg</th>\n",
       "      <td>60</td>\n",
       "    </tr>\n",
       "    <tr>\n",
       "      <th>Düsseldorf</th>\n",
       "      <td>2</td>\n",
       "    </tr>\n",
       "    <tr>\n",
       "      <th>Hamburg</th>\n",
       "      <td>67</td>\n",
       "    </tr>\n",
       "    <tr>\n",
       "      <th>Hessen</th>\n",
       "      <td>165</td>\n",
       "    </tr>\n",
       "    <tr>\n",
       "      <th>Niedersachsen</th>\n",
       "      <td>169</td>\n",
       "    </tr>\n",
       "    <tr>\n",
       "      <th>Nordrhein-Westfalen</th>\n",
       "      <td>325</td>\n",
       "    </tr>\n",
       "    <tr>\n",
       "      <th>Sachsen</th>\n",
       "      <td>162</td>\n",
       "    </tr>\n",
       "    <tr>\n",
       "      <th>Thüringen</th>\n",
       "      <td>89</td>\n",
       "    </tr>\n",
       "  </tbody>\n",
       "</table>\n",
       "</div>"
      ],
      "text/plain": [
       "                     KundeNr\n",
       "Niederlassung               \n",
       "Baden-Württemberg        382\n",
       "Bayern                   338\n",
       "Berlin                   236\n",
       "Brandenburg               60\n",
       "Düsseldorf                 2\n",
       "Hamburg                   67\n",
       "Hessen                   165\n",
       "Niedersachsen            169\n",
       "Nordrhein-Westfalen      325\n",
       "Sachsen                  162\n",
       "Thüringen                 89"
      ]
     },
     "execution_count": 72,
     "metadata": {},
     "output_type": "execute_result"
    }
   ],
   "source": [
    "# 4. Wie viele Autos wurden pro Bundesland verkauft?\n",
    "subs = [['NRW', 'Nordrhein-Westfalen'], ['Berlin-Charlottenburg', 'Berlin'], ['BERLIN', 'Berlin'], ['Berlin-Mitte', 'Berlin']]\n",
    "\n",
    "kundeBundesland = pd.read_csv('data/geo.txt', sep = '\\t')\n",
    "\n",
    "for sub in subs:\n",
    "    kundeBundesland['Niederlassung'] = kundeBundesland['Niederlassung'].replace(sub[0], sub[1])\n",
    "\n",
    "kundeBundesland.groupby(by = 'Niederlassung').count()\n",
    "    \n",
    "# Sachsen: 162\n",
    "# Nordrhein-Westfalen: 325\n",
    "# Hessen: 165\n",
    "# Bayern: 338\n",
    "# Baden-Württemberg: 382\n",
    "# Berlin: 236\n",
    "# Niedersachsen: 169\n",
    "# Brandenburg: 60\n",
    "# Thüringen: 89\n",
    "# Hamburg: 67\n",
    "# Düsseldorf: 2\n",
    "\n"
   ]
  },
  {
   "cell_type": "code",
   "execution_count": 56,
   "id": "95b19db8",
   "metadata": {},
   "outputs": [
    {
     "name": "stdout",
     "output_type": "stream",
     "text": [
      "                             Preis\n",
      "Niederlassung                     \n",
      "Baden-Württemberg     90969.560000\n",
      "Bayern                89344.313245\n",
      "Berlin                89584.984048\n",
      "Brandenburg           86673.640811\n",
      "Düsseldorf           120215.500000\n",
      "Hamburg               85549.499070\n",
      "Hessen                85864.929479\n",
      "Niedersachsen         87963.312500\n",
      "Nordrhein-Westfalen   88451.758103\n",
      "Sachsen               89455.080674\n",
      "Thüringen             90816.994082\n"
     ]
    }
   ],
   "source": [
    "# 5. Wie hoch war der durchschnittliche Umsatz pro Bundesland?\n",
    "subs = [['NRW', 'Nordrhein-Westfalen'], ['Berlin-Charlottenburg', 'Berlin'], ['BERLIN', 'Berlin'], ['Berlin-Mitte', 'Berlin']]\n",
    "\n",
    "kundeBundesland = pd.read_csv('data/geo.txt', sep = '\\t')\n",
    "\n",
    "for sub in subs:\n",
    "    kundeBundesland['Niederlassung'] = kundeBundesland['Niederlassung'].replace(sub[0], sub[1])\n",
    "\n",
    "    \n",
    "kundenDfMerged = pd.merge(kundenDf, kundeBundesland, on = 'KundeNr')   \n",
    "print(kundenDfMerged[['Preis', 'Niederlassung']].groupby(by = 'Niederlassung').mean())\n"
   ]
  },
  {
   "cell_type": "code",
   "execution_count": 58,
   "id": "0ffcbc66",
   "metadata": {},
   "outputs": [
    {
     "data": {
      "text/html": [
       "<div>\n",
       "<style scoped>\n",
       "    .dataframe tbody tr th:only-of-type {\n",
       "        vertical-align: middle;\n",
       "    }\n",
       "\n",
       "    .dataframe tbody tr th {\n",
       "        vertical-align: top;\n",
       "    }\n",
       "\n",
       "    .dataframe thead th {\n",
       "        text-align: right;\n",
       "    }\n",
       "</style>\n",
       "<table border=\"1\" class=\"dataframe\">\n",
       "  <thead>\n",
       "    <tr style=\"text-align: right;\">\n",
       "      <th></th>\n",
       "      <th>Alter</th>\n",
       "      <th>Einkommen</th>\n",
       "      <th>Preis</th>\n",
       "      <th>Zeit</th>\n",
       "      <th>KundeNr</th>\n",
       "    </tr>\n",
       "    <tr>\n",
       "      <th>Geschlecht</th>\n",
       "      <th></th>\n",
       "      <th></th>\n",
       "      <th></th>\n",
       "      <th></th>\n",
       "      <th></th>\n",
       "    </tr>\n",
       "  </thead>\n",
       "  <tbody>\n",
       "    <tr>\n",
       "      <th>0.0</th>\n",
       "      <td>398</td>\n",
       "      <td>398</td>\n",
       "      <td>398</td>\n",
       "      <td>398</td>\n",
       "      <td>398</td>\n",
       "    </tr>\n",
       "    <tr>\n",
       "      <th>1.0</th>\n",
       "      <td>701</td>\n",
       "      <td>701</td>\n",
       "      <td>701</td>\n",
       "      <td>701</td>\n",
       "      <td>701</td>\n",
       "    </tr>\n",
       "  </tbody>\n",
       "</table>\n",
       "</div>"
      ],
      "text/plain": [
       "            Alter  Einkommen  Preis  Zeit  KundeNr\n",
       "Geschlecht                                        \n",
       "0.0           398        398    398   398      398\n",
       "1.0           701        701    701   701      701"
      ]
     },
     "execution_count": 58,
     "metadata": {},
     "output_type": "execute_result"
    }
   ],
   "source": [
    "# 6. Haben mehr Frauen oder mehr Männer unsere Autos gekauft?\n",
    "\n",
    "kundenDf.groupby(by = 'Geschlecht').count()\n",
    "\n",
    "# 0 = Frau 398\n",
    "# 1 = Mann 701"
   ]
  },
  {
   "cell_type": "code",
   "execution_count": 60,
   "id": "fb7d674b",
   "metadata": {},
   "outputs": [
    {
     "data": {
      "text/plain": [
       "50"
      ]
     },
     "execution_count": 60,
     "metadata": {},
     "output_type": "execute_result"
    }
   ],
   "source": [
    "# 7. Wie hoch ist das Durchschnittsalter unserer Kunden?\n",
    "\n",
    "round(kundenDf['Alter'].mean()) # 50"
   ]
  },
  {
   "cell_type": "code",
   "execution_count": 63,
   "id": "a4e85454",
   "metadata": {},
   "outputs": [
    {
     "data": {
      "text/plain": [
       "50"
      ]
     },
     "execution_count": 63,
     "metadata": {},
     "output_type": "execute_result"
    }
   ],
   "source": [
    "# 8. Wie hoch ist das Durchschnittsalter der Besucher in unseren Showrooms?\n",
    "\n",
    "round(besucherDf['Alter'].mean()) # 50"
   ]
  },
  {
   "cell_type": "code",
   "execution_count": 66,
   "id": "acc8e103",
   "metadata": {},
   "outputs": [
    {
     "data": {
      "text/html": [
       "<div>\n",
       "<style scoped>\n",
       "    .dataframe tbody tr th:only-of-type {\n",
       "        vertical-align: middle;\n",
       "    }\n",
       "\n",
       "    .dataframe tbody tr th {\n",
       "        vertical-align: top;\n",
       "    }\n",
       "\n",
       "    .dataframe thead th {\n",
       "        text-align: right;\n",
       "    }\n",
       "</style>\n",
       "<table border=\"1\" class=\"dataframe\">\n",
       "  <thead>\n",
       "    <tr style=\"text-align: right;\">\n",
       "      <th></th>\n",
       "      <th>Alter</th>\n",
       "    </tr>\n",
       "    <tr>\n",
       "      <th>Geschlecht</th>\n",
       "      <th></th>\n",
       "    </tr>\n",
       "  </thead>\n",
       "  <tbody>\n",
       "    <tr>\n",
       "      <th>0.0</th>\n",
       "      <td>50.346734</td>\n",
       "    </tr>\n",
       "    <tr>\n",
       "      <th>1.0</th>\n",
       "      <td>50.523538</td>\n",
       "    </tr>\n",
       "  </tbody>\n",
       "</table>\n",
       "</div>"
      ],
      "text/plain": [
       "                Alter\n",
       "Geschlecht           \n",
       "0.0         50.346734\n",
       "1.0         50.523538"
      ]
     },
     "execution_count": 66,
     "metadata": {},
     "output_type": "execute_result"
    }
   ],
   "source": [
    "# 9. Was ist das Durchschnittsalter unserer männlichen Kunden?\n",
    "\n",
    "kundenDf[['Geschlecht', 'Alter']].groupby(by = 'Geschlecht').mean() # 50"
   ]
  },
  {
   "cell_type": "code",
   "execution_count": 73,
   "id": "aba30d6f",
   "metadata": {},
   "outputs": [
    {
     "name": "stdout",
     "output_type": "stream",
     "text": [
      "einkommen mean = 964474.82€\n"
     ]
    }
   ],
   "source": [
    "# 10. Wie hoch ist das Durchschnittseinkommen unserer Kunden?\n",
    "\n",
    "einkommenMean = round(kundenDf['Einkommen'].mean(), 2)\n",
    "\n",
    "print(f'einkommen mean = {einkommenMean}€')"
   ]
  },
  {
   "cell_type": "code",
   "execution_count": null,
   "id": "7bc66ddd",
   "metadata": {},
   "outputs": [],
   "source": []
  }
 ],
 "metadata": {
  "kernelspec": {
   "display_name": "Python 3 (ipykernel)",
   "language": "python",
   "name": "python3"
  },
  "language_info": {
   "codemirror_mode": {
    "name": "ipython",
    "version": 3
   },
   "file_extension": ".py",
   "mimetype": "text/x-python",
   "name": "python",
   "nbconvert_exporter": "python",
   "pygments_lexer": "ipython3",
   "version": "3.11.5"
  }
 },
 "nbformat": 4,
 "nbformat_minor": 5
}
